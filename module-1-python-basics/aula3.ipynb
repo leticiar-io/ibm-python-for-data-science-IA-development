{
 "cells": [
  {
   "cell_type": "code",
   "execution_count": 1,
   "metadata": {},
   "outputs": [
    {
     "name": "stdout",
     "output_type": "stream",
     "text": [
      "Soma:  30\n",
      "Subtração:  20\n",
      "Multiplicação:  125\n",
      "Divisão:  5.0\n",
      "Divisão inteira:  5\n",
      "Resto 0\n",
      "Exponenciação:  9765625\n",
      "150\n"
     ]
    }
   ],
   "source": [
    "## Expressions Mathematical Operations\n",
    "\n",
    "a = 25\n",
    "b = 5\n",
    "\n",
    "print(\"Soma: \", a + b)\n",
    "print(\"Subtração: \", a - b)\n",
    "print(\"Multiplicação: \", a * b)\n",
    "print(\"Divisão: \", a / b)\n",
    "\n",
    "# Divisão inteira\n",
    "print(\"Divisão inteira: \", a // b)\n",
    "print(\"Resto\", a % b)\n",
    "\n",
    "# Exponenciação\n",
    "print(\"Exponenciação: \", a ** b)\n",
    "\n",
    "# Ordem de precedência\n",
    "# 1. Parênteses\n",
    "# 2. Exponenciação\n",
    "# 3. Multiplicação e Divisão\n",
    "# 4. Adição e Subtração\n",
    "print(30+2*60)"
   ]
  },
  {
   "cell_type": "code",
   "execution_count": 2,
   "metadata": {},
   "outputs": [
    {
     "name": "stdout",
     "output_type": "stream",
     "text": [
      "2.6666666666666665\n"
     ]
    }
   ],
   "source": [
    "x = 160\n",
    "x = x/60\n",
    "\n",
    "print(x)"
   ]
  },
  {
   "cell_type": "code",
   "execution_count": 4,
   "metadata": {},
   "outputs": [
    {
     "name": "stdout",
     "output_type": "stream",
     "text": [
      "2.033333333333333\n"
     ]
    }
   ],
   "source": [
    "tota_min = 23 + 42 + 57\n",
    "total_hr = tota_min/60\n",
    "print(total_hr)"
   ]
  },
  {
   "cell_type": "code",
   "execution_count": 6,
   "metadata": {},
   "outputs": [
    {
     "data": {
      "text/plain": [
       "2.0"
      ]
     },
     "execution_count": 6,
     "metadata": {},
     "output_type": "execute_result"
    }
   ],
   "source": [
    "x = 4\n",
    "x = x/2\n",
    "x"
   ]
  },
  {
   "cell_type": "code",
   "execution_count": 7,
   "metadata": {},
   "outputs": [
    {
     "data": {
      "text/plain": [
       "3"
      ]
     },
     "execution_count": 7,
     "metadata": {},
     "output_type": "execute_result"
    }
   ],
   "source": [
    "int(3.99)"
   ]
  }
 ],
 "metadata": {
  "kernelspec": {
   "display_name": ".venv",
   "language": "python",
   "name": "python3"
  },
  "language_info": {
   "codemirror_mode": {
    "name": "ipython",
    "version": 3
   },
   "file_extension": ".py",
   "mimetype": "text/x-python",
   "name": "python",
   "nbconvert_exporter": "python",
   "pygments_lexer": "ipython3",
   "version": "3.12.4"
  }
 },
 "nbformat": 4,
 "nbformat_minor": 2
}
