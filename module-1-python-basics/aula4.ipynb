{
 "cells": [
  {
   "cell_type": "markdown",
   "metadata": {},
   "source": [
    "<h5> Strings Operations </h5>\n",
    "\n",
    "<ul>\n",
    "   <li>String is a caractere sequence</li>\n",
    "   <li>String can be spaces or digits. \"1 2 3 4 5\"</li>\n",
    "   <li>A String can also be special characters. `@#2_#]&*^%$`</li>\n",
    "</ul>\n",
    "\n",
    "\n",
    "\n"
   ]
  },
  {
   "cell_type": "code",
   "execution_count": 28,
   "metadata": {},
   "outputs": [
    {
     "data": {
      "text/plain": [
       "'s'"
      ]
     },
     "execution_count": 28,
     "metadata": {},
     "output_type": "execute_result"
    }
   ],
   "source": [
    "name = \"Howl Jankins\"\n",
    "# name[0:3]\n",
    "name[::2] # step by 2 = Hw akn\n",
    "name[::-1] # sniknaJ lwH = reverse the string\n",
    "\n",
    "name[0:4:2] # HwJ = start at 0, end at 4, step by 2\n",
    "\n",
    "name[-1]"
   ]
  },
  {
   "cell_type": "code",
   "execution_count": 10,
   "metadata": {},
   "outputs": [
    {
     "name": "stdout",
     "output_type": "stream",
     "text": [
      "Howl Jankins is a wizard\n"
     ]
    }
   ],
   "source": [
    "name = \"Howl Jankins\"\n",
    "statement = name + \" is a wizard\"\n",
    "print(statement)"
   ]
  },
  {
   "cell_type": "code",
   "execution_count": 11,
   "metadata": {},
   "outputs": [
    {
     "name": "stdout",
     "output_type": "stream",
     "text": [
      "Howl JankinsHowl JankinsHowl Jankins\n"
     ]
    }
   ],
   "source": [
    "print(name * 3) # Howl JankinsHowl JankinsHowl Jankins"
   ]
  },
  {
   "cell_type": "code",
   "execution_count": 13,
   "metadata": {},
   "outputs": [
    {
     "data": {
      "text/plain": [
       "'Howl Jankins is a wizard'"
      ]
     },
     "execution_count": 13,
     "metadata": {},
     "output_type": "execute_result"
    }
   ],
   "source": [
    "# we can't do:\n",
    "# name + 3\n",
    "# name[1] = \"a\" # this will give an error\n",
    "\n",
    "# we can do:\n",
    "name = \"Howl Jankins\"\n",
    "name = name + \" is a wizard\"\n",
    "name"
   ]
  },
  {
   "cell_type": "code",
   "execution_count": 16,
   "metadata": {},
   "outputs": [
    {
     "name": "stdout",
     "output_type": "stream",
     "text": [
      "Howl Jankins \n",
      "is a wizard\n",
      "Howl Jankins \tis a wizard\n",
      "Howl Jankins \\is a wizard\n"
     ]
    }
   ],
   "source": [
    "# Strings escape sequences,\n",
    "# \\ = começo de sequencia de escape (são strings que são dificies de inserir)\n",
    "# \\n = new line\n",
    "# \\t = tab\n",
    "# \\\\ = backslash\n",
    "\n",
    "print(\"Howl Jankins \\nis a wizard\")\n",
    "print(\"Howl Jankins \\tis a wizard\")\n",
    "print(\"Howl Jankins \\\\is a wizard\")"
   ]
  },
  {
   "cell_type": "code",
   "execution_count": 17,
   "metadata": {},
   "outputs": [
    {
     "name": "stdout",
     "output_type": "stream",
     "text": [
      "HOWL JANKINS\n",
      "howl jankins\n",
      "['Howl', 'Jankins']\n",
      "Howell Jankins\n"
     ]
    }
   ],
   "source": [
    "# Strings Methods\n",
    "\n",
    "name = \"Howl Jankins\"\n",
    "print(name.upper()) # HOWL JANKINS\n",
    "\n",
    "print(name.lower()) # howl jankins\n",
    "\n",
    "print(name.split()) # ['Howl', 'Jankins']\n",
    "\n",
    "b = name.replace(\"Howl\", \"Howell\")\n",
    "print(b) # Howell Jankins\n"
   ]
  },
  {
   "cell_type": "code",
   "execution_count": 21,
   "metadata": {},
   "outputs": [
    {
     "data": {
      "text/plain": [
       "1"
      ]
     },
     "execution_count": 21,
     "metadata": {},
     "output_type": "execute_result"
    }
   ],
   "source": [
    "name.find(\"ow\")"
   ]
  },
  {
   "cell_type": "code",
   "execution_count": 22,
   "metadata": {},
   "outputs": [
    {
     "data": {
      "text/plain": [
       "-1"
      ]
     },
     "execution_count": 22,
     "metadata": {},
     "output_type": "execute_result"
    }
   ],
   "source": [
    "name.find(\"z\") # -1 = not found"
   ]
  },
  {
   "cell_type": "markdown",
   "metadata": {},
   "source": [
    "### Format Strings"
   ]
  },
  {
   "cell_type": "code",
   "execution_count": 24,
   "metadata": {},
   "outputs": [
    {
     "name": "stdout",
     "output_type": "stream",
     "text": [
      "My name is Letícia and I'm 20 years old\n",
      "My name is Letícia and I'm 20 years old\n",
      "My name is Letícia and I am 20 years old.\n",
      "The sum of x and y is 30.\n"
     ]
    }
   ],
   "source": [
    "name = \"Letícia\"\n",
    "age = 20\n",
    "print(f\"My name is {name} and I'm {age} years old\") # My name is Letícia and I'm 20 years old\n",
    "print(\"My name is {} and I'm {} years old\".format(name, age)) # My name is Letícia and I'm 20 years old\n",
    "\n",
    "print(\"My name is %s and I am %d years old.\" % (name, age))\n",
    "\n",
    "x = 10\n",
    "y = 20\n",
    "print(f\"The sum of x and y is {x+y}.\")"
   ]
  },
  {
   "cell_type": "code",
   "execution_count": 27,
   "metadata": {},
   "outputs": [
    {
     "name": "stdout",
     "output_type": "stream",
     "text": [
      "Regular String: C:\n",
      "ew_folder\file.txt\n",
      "Raw String: C:\\new_folder\\file.txt\n"
     ]
    }
   ],
   "source": [
    "regular_string = \"C:\\new_folder\\file.txt\"\n",
    "print(\"Regular String:\", regular_string)\n",
    "\n",
    "raw_string = r\"C:\\new_folder\\file.txt\"\n",
    "print(\"Raw String:\", raw_string)"
   ]
  }
 ],
 "metadata": {
  "kernelspec": {
   "display_name": ".venv",
   "language": "python",
   "name": "python3"
  },
  "language_info": {
   "codemirror_mode": {
    "name": "ipython",
    "version": 3
   },
   "file_extension": ".py",
   "mimetype": "text/x-python",
   "name": "python",
   "nbconvert_exporter": "python",
   "pygments_lexer": "ipython3",
   "version": "3.12.4"
  }
 },
 "nbformat": 4,
 "nbformat_minor": 2
}
