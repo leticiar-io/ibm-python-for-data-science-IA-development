{
 "cells": [
  {
   "cell_type": "markdown",
   "metadata": {},
   "source": [
    "## Lists"
   ]
  },
  {
   "cell_type": "markdown",
   "metadata": {},
   "source": [
    "<ul>\n",
    "   <li> Lists are an ordered sequence </li>\n",
    "   <li>A List is represented with square brackets []\n",
    "   <li>Lists are mutable</li>\n",
    "</ul>"
   ]
  },
  {
   "cell_type": "code",
   "execution_count": 59,
   "metadata": {},
   "outputs": [],
   "source": [
    "L = [\"Howl Jankins\", 21, \"Sophie Hatter\", 18, \"Calcifer\", 1000]"
   ]
  },
  {
   "cell_type": "code",
   "execution_count": 60,
   "metadata": {},
   "outputs": [
    {
     "name": "stdout",
     "output_type": "stream",
     "text": [
      "Howl Jankins\n"
     ]
    }
   ],
   "source": [
    "print(L[0])"
   ]
  },
  {
   "cell_type": "code",
   "execution_count": 61,
   "metadata": {},
   "outputs": [
    {
     "name": "stdout",
     "output_type": "stream",
     "text": [
      "[18, 'Calcifer', 1000]\n"
     ]
    }
   ],
   "source": [
    "# Last element\n",
    "print(L[-3::])"
   ]
  },
  {
   "cell_type": "code",
   "execution_count": 62,
   "metadata": {},
   "outputs": [
    {
     "name": "stdout",
     "output_type": "stream",
     "text": [
      "['Howl Jankins', 21, 'Sophie Hatter', 18, 'Calcifer', 1000, 'Markl', 15]\n"
     ]
    }
   ],
   "source": [
    "# Concatenation\n",
    "L1 = L + [\"Markl\", 15]\n",
    "\n",
    "print(L1)"
   ]
  },
  {
   "cell_type": "code",
   "execution_count": 63,
   "metadata": {},
   "outputs": [
    {
     "name": "stdout",
     "output_type": "stream",
     "text": [
      "['Howl Jankins', 21, 'Sophie Hatter', 18, 'Calcifer', 1000, 'Leti', 14]\n"
     ]
    }
   ],
   "source": [
    "# Lists are mutable\n",
    "\n",
    "L.extend([\"Leti\", 14]) # .extend() method adds multiple elements to the list at once\n",
    "print(L)"
   ]
  },
  {
   "cell_type": "code",
   "execution_count": 64,
   "metadata": {},
   "outputs": [
    {
     "name": "stdout",
     "output_type": "stream",
     "text": [
      "['Howl Jankins', 21, 'Sophie Hatter', 18, 'Calcifer', 1000, 'Leti', 14]\n",
      "['Howl Jankins', 21, 'Sophie Hatter', 18, 'Calcifer', 1000]\n"
     ]
    }
   ],
   "source": [
    "# .pop() method removes the last element of the list\n",
    "print(L)\n",
    "\n",
    "L.pop()\n",
    "L.pop()\n",
    "print(L)"
   ]
  },
  {
   "cell_type": "code",
   "execution_count": 65,
   "metadata": {},
   "outputs": [
    {
     "name": "stdout",
     "output_type": "stream",
     "text": [
      "['Howl Jankins', 21, 'Sophie Hatter', 18, 'Calcifer', 1000, 'Leti']\n",
      "['Markl', 15, 'Howl Jankins', 21, 'Sophie Hatter', 18, 'Calcifer', 1000, 'Leti']\n"
     ]
    }
   ],
   "source": [
    "# .append() method adds a single element to the end of the list\n",
    "L.append(\"Leti\")\n",
    "print(L)\n",
    "\n",
    "# .insert() method adds an element to the list at a specific index\n",
    "L.insert(0, \"Markl\")\n",
    "L.insert(1, 15)\n",
    "\n",
    "print(L)"
   ]
  },
  {
   "cell_type": "code",
   "execution_count": null,
   "metadata": {},
   "outputs": [
    {
     "name": "stdout",
     "output_type": "stream",
     "text": [
      "[15, 'Howl Jankins', 21, 'Sophie Hatter', 18, 'Calcifer', 1000, 'Leti']\n"
     ]
    }
   ],
   "source": [
    "# .remove() method removes the first occurence of a specific element from the list\n",
    "\n",
    "L.remove(\"Markl\")\n",
    "print(L)"
   ]
  },
  {
   "cell_type": "code",
   "execution_count": null,
   "metadata": {},
   "outputs": [
    {
     "name": "stdout",
     "output_type": "stream",
     "text": [
      "[10, 1.2]\n"
     ]
    }
   ],
   "source": [
    "A = [\"hard rock\", 10, 1.2]\n",
    "del(A[0])\n",
    "print(A)"
   ]
  },
  {
   "cell_type": "code",
   "execution_count": 68,
   "metadata": {},
   "outputs": [
    {
     "data": {
      "text/plain": [
       "['A', 'B', 'C', 'D']"
      ]
     },
     "execution_count": 68,
     "metadata": {},
     "output_type": "execute_result"
    }
   ],
   "source": [
    "\"A,B,C,D\".split(\",\")"
   ]
  }
 ],
 "metadata": {
  "kernelspec": {
   "display_name": ".venv",
   "language": "python",
   "name": "python3"
  },
  "language_info": {
   "codemirror_mode": {
    "name": "ipython",
    "version": 3
   },
   "file_extension": ".py",
   "mimetype": "text/x-python",
   "name": "python",
   "nbconvert_exporter": "python",
   "pygments_lexer": "ipython3",
   "version": "3.12.4"
  }
 },
 "nbformat": 4,
 "nbformat_minor": 2
}
