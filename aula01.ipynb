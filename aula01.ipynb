{
 "cells": [
  {
   "cell_type": "markdown",
   "metadata": {},
   "source": [
    "# Tuplas"
   ]
  },
  {
   "cell_type": "markdown",
   "metadata": {},
   "source": [
    "<ul>\n",
    "   <li> Tuples are an ordered sequence </li>\n",
    "   <li> Tuples are written as comma-separated elements within parentheses</li>\n",
    "</ul>"
   ]
  },
  {
   "cell_type": "code",
   "execution_count": 2,
   "metadata": {},
   "outputs": [
    {
     "data": {
      "text/plain": [
       "(10, 9, 6, 2)"
      ]
     },
     "execution_count": 2,
     "metadata": {},
     "output_type": "execute_result"
    }
   ],
   "source": [
    "Ratings = (10, 9, 6, 2)\n",
    "Ratings"
   ]
  },
  {
   "cell_type": "code",
   "execution_count": 17,
   "metadata": {},
   "outputs": [
    {
     "name": "stdout",
     "output_type": "stream",
     "text": [
      "ID: 1, Nome: Letícia, Idade: 20\n",
      "ID: 2, Nome: Jomar, Idade: 19\n",
      "ID: 3, Nome: Vintinho, Idade: 18\n",
      "ID: 4, Nome: Xilosa, Idade: 19\n",
      "ID: 5, Nome: Ticia, Idade: 19\n",
      "ID: 6, Nome: Mathias, Idade: 20\n"
     ]
    }
   ],
   "source": [
    "# Tuples can be: strings, int, float \n",
    "# All the elements in a tuple can be of different data types\n",
    "\n",
    "usuario = (1, \"Letícia\", 20)\n",
    "\n",
    "# I can do a array of tuples\n",
    "usuarios = [\n",
    "   (1, \"Letícia\", 20),\n",
    "   (2, \"Jomar\", 19),\n",
    "   (3, \"Vintinho\", 18),\n",
    "   (4, \"Xilosa\", 19),\n",
    "   (5, \"Ticia\", 19),\n",
    "   (6, \"Mathias\", 20)\n",
    "]\n",
    "\n",
    "# I can access the elements of a tuple by index\n",
    "# print(usuarios[0])\n",
    "\n",
    "\n",
    "for id, nome, idade in usuarios:\n",
    "   print(f\"ID: {id}, Nome: {nome}, Idade: {idade}\")"
   ]
  },
  {
   "cell_type": "code",
   "execution_count": 23,
   "metadata": {},
   "outputs": [
    {
     "name": "stdout",
     "output_type": "stream",
     "text": [
      "[(1, 'Letícia', 20), (2, 'Jomar', 19), (3, 'Vintinho', 18)]\n",
      "[(4, 'Xilosa', 19), (5, 'Ticia', 19), (6, 'Mathias', 20)]\n",
      "Letícia\n"
     ]
    }
   ],
   "source": [
    "print(usuarios[0:3]) # 3 first elements\n",
    "\n",
    "print(usuarios[3:]) # 3 last elements\n",
    "\n",
    "print(usuarios[0][1])"
   ]
  },
  {
   "cell_type": "code",
   "execution_count": null,
   "metadata": {},
   "outputs": [],
   "source": [
    "# Tuples are immutable\n",
    "# usuarios[0] = (1, \"Letícia\", 21) # Error"
   ]
  },
  {
   "cell_type": "code",
   "execution_count": 25,
   "metadata": {},
   "outputs": [
    {
     "name": "stdout",
     "output_type": "stream",
     "text": [
      "[1, 2, 5, 6, 8, 9, 10, 10]\n"
     ]
    }
   ],
   "source": [
    "# If we want to change a tuple, we need to create a new tuple\n",
    "\n",
    "Ratings = (10, 9, 6, 5, 10, 8, 1, 2)\n",
    "# Se quisermos classificar uma tupla, usamos a função sorted\n",
    "RatingsSorted = sorted(Ratings)\n",
    "print(RatingsSorted)"
   ]
  },
  {
   "cell_type": "markdown",
   "metadata": {},
   "source": [
    "#### Nesting (Aninhamento)\n",
    "\n",
    "Uma tupla pode conter outras tuplas, bem como outros tipos de dados complexos"
   ]
  },
  {
   "cell_type": "code",
   "execution_count": 30,
   "metadata": {},
   "outputs": [
    {
     "name": "stdout",
     "output_type": "stream",
     "text": [
      "rock\n",
      "1\n"
     ]
    }
   ],
   "source": [
    "NT = (1, 2, (\"pop\", \"rock\"), (3, 4), (\"disco\", (1, 2)))\n",
    "\n",
    "print(NT[2][1])\n",
    "print(NT[4][1][0])"
   ]
  }
 ],
 "metadata": {
  "kernelspec": {
   "display_name": ".venv",
   "language": "python",
   "name": "python3"
  },
  "language_info": {
   "codemirror_mode": {
    "name": "ipython",
    "version": 3
   },
   "file_extension": ".py",
   "mimetype": "text/x-python",
   "name": "python",
   "nbconvert_exporter": "python",
   "pygments_lexer": "ipython3",
   "version": "3.12.4"
  }
 },
 "nbformat": 4,
 "nbformat_minor": 2
}
